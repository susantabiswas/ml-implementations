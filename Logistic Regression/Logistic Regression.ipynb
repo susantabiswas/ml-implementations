{
 "cells": [
  {
   "cell_type": "markdown",
   "metadata": {},
   "source": [
    "# <u>Logistic Regression for cat classification"
   ]
  },
  {
   "cell_type": "markdown",
   "metadata": {},
   "source": [
    "This is a cat classification problem, where the task is to classify a picture as a cat or non-cat picture.\n",
    "<br>Output y = 1 if the picture is of a cat \n",
    "<br>Output y = 0 if the picture is not of a cat"
   ]
  },
  {
   "cell_type": "code",
   "execution_count": 1,
   "metadata": {
    "collapsed": true
   },
   "outputs": [],
   "source": [
    "# import the libraries\n",
    "import numpy as np\n",
    "import h5py\n",
    "import matplotlib.pyplot as plt\n",
    "import dataset_utility as du\n",
    "\n",
    "%matplotlib inline"
   ]
  },
  {
   "cell_type": "markdown",
   "metadata": {},
   "source": [
    "### Data loading and preprocessing work"
   ]
  },
  {
   "cell_type": "markdown",
   "metadata": {},
   "source": [
    "The dataset contains cat and non-cat pictures and the labels are 0 or 1.<br>\n"
   ]
  },
  {
   "cell_type": "code",
   "execution_count": 74,
   "metadata": {},
   "outputs": [
    {
     "name": "stdout",
     "output_type": "stream",
     "text": [
      "Training features shape:(209, 64, 64, 3)\n",
      "Training output shape:(209,)\n",
      "Test features shape:(50, 64, 64, 3)\n",
      "Test output shape:(50,)\n"
     ]
    }
   ],
   "source": [
    "# load the data set\n",
    "test_loc = r'datasets\\train_catvsnoncat.h5'\n",
    "train_loc = r'datasets\\test_catvsnoncat.h5'\n",
    "\n",
    "train_X, train_y, test_X, test_y = du.load_data2(train_loc, test_loc)\n",
    "\n",
    "print('Training features shape:'+ str(train_X.shape))\n",
    "print('Training output shape:'+ str(train_y.shape))\n",
    "print('Test features shape:'+ str(test_X.shape))\n",
    "print('Test output shape:'+ str(test_y.shape))"
   ]
  },
  {
   "cell_type": "markdown",
   "metadata": {},
   "source": [
    "### 1) <u>Reshape the matrices.</u>\n",
    "### 2) <u>Flatten the feature matrix and create one hot matrix for output labels"
   ]
  },
  {
   "cell_type": "code",
   "execution_count": 75,
   "metadata": {
    "collapsed": true
   },
   "outputs": [],
   "source": [
    "# reshape the output matrices to avoid it being treated as rank 1 matrix\n",
    "train_y = np.reshape(train_y, (train_y.shape[0],1))\n",
    "test_y = np.reshape(test_y, (test_y.shape[0],1))"
   ]
  },
  {
   "cell_type": "code",
   "execution_count": 77,
   "metadata": {
    "collapsed": true
   },
   "outputs": [],
   "source": [
    "# noramalize the features\n",
    "train_X, test_X = du.normalize_data( train_X, test_X)\n",
    "\n",
    "# flatten the feature matrix\n",
    "train_X, test_X = du.unroll_features(train_X, test_X)\n",
    "\n",
    "# transpose the label matrices to match the dimension format\n",
    "train_y = train_y.T\n",
    "test_y = test_y.T"
   ]
  },
  {
   "cell_type": "code",
   "execution_count": 1,
   "metadata": {},
   "outputs": [
    {
     "ename": "NameError",
     "evalue": "name 'train_X' is not defined",
     "output_type": "error",
     "traceback": [
      "\u001b[1;31m---------------------------------------------------------------------------\u001b[0m",
      "\u001b[1;31mNameError\u001b[0m                                 Traceback (most recent call last)",
      "\u001b[1;32m<ipython-input-1-739405ce6044>\u001b[0m in \u001b[0;36m<module>\u001b[1;34m()\u001b[0m\n\u001b[0;32m      1\u001b[0m \u001b[1;31m# check the dimensions\u001b[0m\u001b[1;33m\u001b[0m\u001b[1;33m\u001b[0m\u001b[0m\n\u001b[1;32m----> 2\u001b[1;33m \u001b[0mprint\u001b[0m\u001b[1;33m(\u001b[0m\u001b[1;34m'Training features shape:'\u001b[0m\u001b[1;33m+\u001b[0m \u001b[0mstr\u001b[0m\u001b[1;33m(\u001b[0m\u001b[0mtrain_X\u001b[0m\u001b[1;33m.\u001b[0m\u001b[0mshape\u001b[0m\u001b[1;33m)\u001b[0m\u001b[1;33m)\u001b[0m\u001b[1;33m\u001b[0m\u001b[0m\n\u001b[0m\u001b[0;32m      3\u001b[0m \u001b[0mprint\u001b[0m\u001b[1;33m(\u001b[0m\u001b[1;34m'Training output shape:'\u001b[0m\u001b[1;33m+\u001b[0m \u001b[0mstr\u001b[0m\u001b[1;33m(\u001b[0m\u001b[0mtrain_y\u001b[0m\u001b[1;33m.\u001b[0m\u001b[0mshape\u001b[0m\u001b[1;33m)\u001b[0m\u001b[1;33m)\u001b[0m\u001b[1;33m\u001b[0m\u001b[0m\n\u001b[0;32m      4\u001b[0m \u001b[0mprint\u001b[0m\u001b[1;33m(\u001b[0m\u001b[1;34m'Test features shape:'\u001b[0m\u001b[1;33m+\u001b[0m \u001b[0mstr\u001b[0m\u001b[1;33m(\u001b[0m\u001b[0mtest_X\u001b[0m\u001b[1;33m.\u001b[0m\u001b[0mshape\u001b[0m\u001b[1;33m)\u001b[0m\u001b[1;33m)\u001b[0m\u001b[1;33m\u001b[0m\u001b[0m\n\u001b[0;32m      5\u001b[0m \u001b[0mprint\u001b[0m\u001b[1;33m(\u001b[0m\u001b[1;34m'Test output shape:'\u001b[0m\u001b[1;33m+\u001b[0m \u001b[0mstr\u001b[0m\u001b[1;33m(\u001b[0m\u001b[0mtest_y\u001b[0m\u001b[1;33m.\u001b[0m\u001b[0mshape\u001b[0m\u001b[1;33m)\u001b[0m\u001b[1;33m)\u001b[0m\u001b[1;33m\u001b[0m\u001b[0m\n",
      "\u001b[1;31mNameError\u001b[0m: name 'train_X' is not defined"
     ]
    }
   ],
   "source": [
    "# check the dimensions\n",
    "print('Training features shape:'+ str(train_X.shape))\n",
    "print('Training output shape:'+ str(train_y.shape))\n",
    "print('Test features shape:'+ str(test_X.shape))\n",
    "print('Test output shape:'+ str(test_y.shape))"
   ]
  },
  {
   "cell_type": "markdown",
   "metadata": {},
   "source": [
    "## <u>Helper Functions"
   ]
  },
  {
   "cell_type": "markdown",
   "metadata": {},
   "source": [
    "### Initialize weight and bias parameters\n"
   ]
  },
  {
   "cell_type": "code",
   "execution_count": 79,
   "metadata": {
    "collapsed": true
   },
   "outputs": [],
   "source": [
    "def initialize_parameters(n):\n",
    "    '''\n",
    "    for initializing the weight and bias parameters with zero value\n",
    "    \n",
    "    Arguments:\n",
    "        n: no. of input features\n",
    "    Returns:\n",
    "        parameters: (dict) zero initialized weight and bias parameters \n",
    "    '''\n",
    "    parameters = {}\n",
    "    # we will use zero initialization\n",
    "    parameters['W'] = np.zeros((n,1), dtype = np.float64)\n",
    "    # bias\n",
    "    parameters['b'] = 0\n",
    "    \n",
    "    return parameters"
   ]
  },
  {
   "cell_type": "markdown",
   "metadata": {},
   "source": [
    "### Activation function"
   ]
  },
  {
   "cell_type": "code",
   "execution_count": 80,
   "metadata": {
    "collapsed": true
   },
   "outputs": [],
   "source": [
    "# for doing the sigmoid function\n",
    "def sigmoid(z):\n",
    "    '''\n",
    "    for computing the sigmoid function\n",
    "    \n",
    "    Arguments:\n",
    "        z: linear input\n",
    "    Returns:\n",
    "        A: (float) sigmoid output\n",
    "    '''\n",
    "    A = (1/ (1 + np.exp(-z)))\n",
    "    return A"
   ]
  },
  {
   "cell_type": "markdown",
   "metadata": {},
   "source": [
    "### Cost Function"
   ]
  },
  {
   "cell_type": "code",
   "execution_count": 81,
   "metadata": {
    "collapsed": true
   },
   "outputs": [],
   "source": [
    "# for computing the logistic error\n",
    "def compute_cost(train_y, y_hat):\n",
    "    '''\n",
    "    for computing the mean loss (cost) for logistic regression\n",
    "    \n",
    "    Arguments:\n",
    "        train_y:(numpy matrix) contains the correct output labels for m training examples\n",
    "        y_hat:(numpy matrix) contains the sigmoid output values for m training examples\n",
    "    Returns:\n",
    "        cost: (float) cost value for m training examples\n",
    "    '''\n",
    "    cost = (1/train_y.shape[1]) * np.sum( -train_y*np.log(y_hat) - (1-train_y)*np.log(1 - y_hat) )\n",
    "    return cost"
   ]
  },
  {
   "cell_type": "code",
   "execution_count": 85,
   "metadata": {
    "collapsed": true
   },
   "outputs": [],
   "source": [
    "def gradient_descent(parameters, train_X, train_y, y_hat, learning_rate):\n",
    "    '''\n",
    "    for doing gradient descent and updating the weights\n",
    "    \n",
    "    Arguments:\n",
    "        parameters: (dict) contains the learned weight and bias parameters\n",
    "        train_X:(numpy matrix) contains the input features for m training examples\n",
    "        train_y:(numpy matrix) contains the correct output labels for m training examples\n",
    "        y_hat:(numpy matrix) contains the sigmoid output values for m training examples\n",
    "        learning_rate: (float) learning rate\n",
    "    Returns:\n",
    "        parameters: (dict) contains the learned weight and bias parameters\n",
    "    '''\n",
    "    # find the derivatives\n",
    "    dw = (1/train_X.shape[1]) * np.dot( train_X, (y_hat - train_y).T )\n",
    "    db = (1/train_X.shape[1]) * np.sum( y_hat - train_y ) \n",
    "    \n",
    "    # update the parameters\n",
    "    parameters['W'] = parameters['W'] - (learning_rate * dw)\n",
    "    parameters['b'] = parameters['b'] - (learning_rate * db)\n",
    "   \n",
    "    return parameters"
   ]
  },
  {
   "cell_type": "code",
   "execution_count": 114,
   "metadata": {
    "collapsed": true
   },
   "outputs": [],
   "source": [
    "def model(train_X, train_y, num_iters, learning_rate):\n",
    "    '''\n",
    "    for training the model by doing steps systematically\n",
    "    \n",
    "    Arguments:\n",
    "        train_X:(numpy matrix) contains the input features for m training examples\n",
    "        train_y:(numpy matrix) contains the correct output labels for m training examples\n",
    "        num_iters: (int) no. of iterations to run \n",
    "        learning_rate: (float) learning rate\n",
    "     Returns:\n",
    "        parameters: (dict) contains the learned weight and bias parameters\n",
    "        costs: (list) contains cost per 100 iterations\n",
    "    '''\n",
    "    \n",
    "    parameters = initialize_parameters(train_X.shape[0])\n",
    "    \n",
    "    # for storing cost\n",
    "    costs = []\n",
    "    \n",
    "    for iter in range(num_iters):\n",
    "        z = np.dot(parameters['W'].T, train_X) + parameters['b']\n",
    "        y_hat = sigmoid(z)\n",
    "        J = compute_cost(train_y, y_hat)\n",
    "   \n",
    "        costs.append(J)\n",
    "        parameters = gradient_descent(parameters, train_X, train_y, y_hat, learning_rate)\n",
    "        \n",
    "        if iter % 100 == 0:\n",
    "            print('Cost after iteration %i: %f'%(iter,J))\n",
    "    \n",
    "    return parameters, costs"
   ]
  },
  {
   "cell_type": "code",
   "execution_count": 134,
   "metadata": {},
   "outputs": [
    {
     "name": "stdout",
     "output_type": "stream",
     "text": [
      "Cost after iteration 0: 0.693147\n",
      "Cost after iteration 100: 0.584508\n",
      "Cost after iteration 200: 0.466949\n",
      "Cost after iteration 300: 0.376007\n",
      "Cost after iteration 400: 0.331463\n",
      "Cost after iteration 500: 0.303273\n",
      "Cost after iteration 600: 0.279880\n",
      "Cost after iteration 700: 0.260042\n",
      "Cost after iteration 800: 0.242941\n",
      "Cost after iteration 900: 0.228004\n",
      "Cost after iteration 1000: 0.214820\n",
      "Cost after iteration 1100: 0.203078\n",
      "Cost after iteration 1200: 0.192544\n",
      "Cost after iteration 1300: 0.183033\n",
      "Cost after iteration 1400: 0.174399\n",
      "Cost after iteration 1500: 0.166521\n",
      "Cost after iteration 1600: 0.159305\n",
      "Cost after iteration 1700: 0.152667\n",
      "Cost after iteration 1800: 0.146542\n",
      "Cost after iteration 1900: 0.140872\n"
     ]
    }
   ],
   "source": [
    "num_iters = 2000\n",
    "learning_rate = 0.005\n",
    "# train the model to find the weights\n",
    "parameters, costs = model(train_X, train_y, num_iters, learning_rate)"
   ]
  },
  {
   "cell_type": "code",
   "execution_count": 135,
   "metadata": {
    "collapsed": true
   },
   "outputs": [],
   "source": [
    "def predict(features_X, parameters):\n",
    "    '''\n",
    "    for predicting the output labels for inputs\n",
    "    \n",
    "    Arguments:\n",
    "        feature_X: (numpy matrix) contains the input features for m training examples\n",
    "        parameters: (dict) contains the learned weight and bias parameters\n",
    "    Returns:\n",
    "        pred: (numpy array) output labels\n",
    "    '''\n",
    "    # find the output of logistic regression\n",
    "    z = np.dot(parameters['W'].T, features_X) + parameters['b']\n",
    "    # compute the sigmoid output\n",
    "    pred = sigmoid(z)\n",
    "    \n",
    "    # if the output is >0.5 then we consider that the picture is of a cat else it is a non-cat picture. \n",
    "    pred = (pred > 0.5)\n",
    "    \n",
    "    return pred    "
   ]
  },
  {
   "cell_type": "code",
   "execution_count": 136,
   "metadata": {
    "collapsed": true
   },
   "outputs": [],
   "source": [
    "prediction_train = predict(train_X, parameters)\n",
    "prediction_test = predict(test_X, parameters)"
   ]
  },
  {
   "cell_type": "code",
   "execution_count": 137,
   "metadata": {},
   "outputs": [
    {
     "name": "stdout",
     "output_type": "stream",
     "text": [
      "train accuracy: 99.04306220095694 %\n",
      "test accuracy: 70.0 %\n"
     ]
    }
   ],
   "source": [
    "# Print train/test Errors\n",
    "print(\"train accuracy: {} %\".format(100 - np.mean(np.abs(prediction_train - train_y)) * 100))\n",
    "print(\"test accuracy: {} %\".format(100 - np.mean(np.abs(prediction_test - test_y)) * 100))"
   ]
  },
  {
   "cell_type": "code",
   "execution_count": 138,
   "metadata": {},
   "outputs": [
    {
     "data": {
      "image/png": "[encoded data removed]",
      "text/plain": [
       "<matplotlib.figure.Figure at 0x1ba00f949b0>"
      ]
     },
     "metadata": {},
     "output_type": "display_data"
    }
   ],
   "source": [
    "def plot_learning_curve(costs, learning_rate):\n",
    "    '''\n",
    "    for plotting learning curve\n",
    "    \n",
    "    Arguments:\n",
    "        costs: (list) contains the costs per 100 iterations\n",
    "        learning_rate: (float) learning rate\n",
    "    Returns:\n",
    "        nil\n",
    "    '''\n",
    "    # Plot learning curve( cost vs iterations)\n",
    "    costs = np.squeeze(costs)\n",
    "    plt.plot(costs)\n",
    "    plt.ylabel('cost')\n",
    "    plt.xlabel('iterations (per hundreds)')\n",
    "    plt.title(\"Learning rate =\" + str(learning_rate))\n",
    "    plt.show()"
   ]
  }
 ],
 "metadata": {
  "kernelspec": {
   "display_name": "Python 3",
   "language": "python",
   "name": "python3"
  },
  "language_info": {
   "codemirror_mode": {
    "name": "ipython",
    "version": 3
   },
   "file_extension": ".py",
   "mimetype": "text/x-python",
   "name": "python",
   "nbconvert_exporter": "python",
   "pygments_lexer": "ipython3",
   "version": "3.6.3"
  }
 },
 "nbformat": 4,
 "nbformat_minor": 2
}
