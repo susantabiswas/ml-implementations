{
 "cells": [
  {
   "cell_type": "markdown",
   "metadata": {},
   "source": [
    "# <u>Deep L-layered Neural Network"
   ]
  },
  {
   "cell_type": "markdown",
   "metadata": {},
   "source": [
    "### We will make a L -layers deep neural network for cat classification problem"
   ]
  },
  {
   "cell_type": "markdown",
   "metadata": {},
   "source": [
    "This is a cat classification problem, where the task is to classify a picture as a cat or non-cat picture.\n",
    "<br>Output y = 1 if the picture is of a cat \n",
    "<br>Output y = 0 if the picture is not of a cat"
   ]
  },
  {
   "cell_type": "code",
   "execution_count": 1,
   "metadata": {
    "collapsed": true
   },
   "outputs": [],
   "source": [
    "# import the libraries\n",
    "import numpy as np\n",
    "import matplotlib.pyplot as plt\n",
    "import h5py\n",
    "import dataset_utility as du\n",
    "%matplotlib inline"
   ]
  },
  {
   "cell_type": "markdown",
   "metadata": {},
   "source": [
    "### Data loading and preprocessing work"
   ]
  },
  {
   "cell_type": "markdown",
   "metadata": {},
   "source": [
    "The dataset contains cat and non-cat pictures and the labels are 0 or 1.<br>\n"
   ]
  },
  {
   "cell_type": "code",
   "execution_count": 2,
   "metadata": {},
   "outputs": [
    {
     "name": "stdout",
     "output_type": "stream",
     "text": [
      "Training features shape:(209, 64, 64, 3)\n",
      "Training output shape:(209,)\n",
      "Test features shape:(50, 64, 64, 3)\n",
      "Test output shape:(50,)\n"
     ]
    }
   ],
   "source": [
    "# load the data set\n",
    "test_loc = r'datasets\\train_catvsnoncat.h5'\n",
    "train_loc = r'datasets\\test_catvsnoncat.h5'\n",
    "\n",
    "train_X, train_y, test_X, test_y = du.load_data2(train_loc, test_loc)\n",
    "\n",
    "print('Training features shape:'+ str(train_X.shape))\n",
    "print('Training output shape:'+ str(train_y.shape))\n",
    "print('Test features shape:'+ str(test_X.shape))\n",
    "print('Test output shape:'+ str(test_y.shape))"
   ]
  },
  {
   "cell_type": "markdown",
   "metadata": {},
   "source": [
    "### 1) <u>Reshape the matrices.</u>\n",
    "### 2) <u>Flatten the feature matrix and create one hot matrix for output labels"
   ]
  },
  {
   "cell_type": "code",
   "execution_count": 3,
   "metadata": {
    "collapsed": true
   },
   "outputs": [],
   "source": [
    "# reshape the output matrices to avoid it being treated as rank 1 matrix\n",
    "train_y = np.reshape(train_y, (train_y.shape[0],1))\n",
    "test_y = np.reshape(test_y, (test_y.shape[0],1))"
   ]
  },
  {
   "cell_type": "code",
   "execution_count": 4,
   "metadata": {
    "collapsed": true
   },
   "outputs": [],
   "source": [
    "# noramalize the features\n",
    "train_X, test_X = du.normalize_data( train_X, test_X)\n",
    "\n",
    "# flatten the feature matrix\n",
    "train_X, test_X = du.unroll_features(train_X, test_X)\n",
    "\n",
    "# transpose the label matrices to match the dimension format\n",
    "train_y = train_y.T\n",
    "test_y = test_y.T"
   ]
  },
  {
   "cell_type": "code",
   "execution_count": 5,
   "metadata": {},
   "outputs": [
    {
     "name": "stdout",
     "output_type": "stream",
     "text": [
      "Training features shape:(12288, 209)\n",
      "Training output shape:(1, 209)\n",
      "Test features shape:(12288, 50)\n",
      "Test output shape:(1, 50)\n"
     ]
    }
   ],
   "source": [
    "# check the dimensions\n",
    "print('Training features shape:'+ str(train_X.shape))\n",
    "print('Training output shape:'+ str(train_y.shape))\n",
    "print('Test features shape:'+ str(test_X.shape))\n",
    "print('Test output shape:'+ str(test_y.shape))"
   ]
  },
  {
   "cell_type": "markdown",
   "metadata": {},
   "source": [
    "## <u>Neural Network Architecture\n",
    "We will be using sigmoid activation function for the output layer and use a non-linear activation function like sigmoid, tanh, ReLU for the hidden layer units.\n",
    "<br>For each hidden layer [l]: <br>Activation output from[l-1] ---> Z[l] ----> Activation function----->A[l] "
   ]
  },
  {
   "cell_type": "markdown",
   "metadata": {},
   "source": [
    "## <u>Helper Functions"
   ]
  },
  {
   "cell_type": "markdown",
   "metadata": {},
   "source": [
    "### Initialize weight and bias parameters\n"
   ]
  },
  {
   "cell_type": "code",
   "execution_count": 6,
   "metadata": {
    "collapsed": true
   },
   "outputs": [],
   "source": [
    "def random_init_parameters(num_layers, n_layer):\n",
    "    '''\n",
    "    for initializing the weight and bias parameters with random values\n",
    "    \n",
    "    Arguments:\n",
    "        num_layers: (int) no. of layers in the neural network\n",
    "        n_layer: (list) no. of units in each layer\n",
    "    Returns:\n",
    "        parameters: (dict) zero initialized weight and bias parameters \n",
    "    '''\n",
    "    parameters = {}\n",
    "    \n",
    "    for l in range(num_layers):\n",
    "        parameters['W' + str(l+1)] = np.random.randn(n_layer[l+1], n_layer[l]) * 0.01\n",
    "        parameters['b' + str(l+1)] = np.zeros((n_layer[l+1],1)) \n",
    "    \n",
    "    return parameters"
   ]
  },
  {
   "cell_type": "markdown",
   "metadata": {},
   "source": [
    "### Activation function"
   ]
  },
  {
   "cell_type": "code",
   "execution_count": 7,
   "metadata": {
    "collapsed": true
   },
   "outputs": [],
   "source": [
    "# for doing the sigmoid function\n",
    "def sigmoid(z):\n",
    "    '''\n",
    "    for computing the sigmoid function\n",
    "    \n",
    "    Arguments:\n",
    "        z: linear input\n",
    "    Returns:\n",
    "        A: (float) sigmoid output\n",
    "    '''\n",
    "    A = (1/ (1 + np.exp(-z)))\n",
    "    return A"
   ]
  },
  {
   "cell_type": "code",
   "execution_count": 8,
   "metadata": {
    "collapsed": true
   },
   "outputs": [],
   "source": [
    "# for doing the ReLU function\n",
    "def relu(z):\n",
    "    '''\n",
    "    for computing the relu function\n",
    "    \n",
    "    Arguments:\n",
    "        z: linear input\n",
    "    Returns:\n",
    "        A: (float) relu output\n",
    "    '''\n",
    "    A = np.maximum(0, z)\n",
    "    return A"
   ]
  },
  {
   "cell_type": "code",
   "execution_count": 9,
   "metadata": {
    "collapsed": true
   },
   "outputs": [],
   "source": [
    "def activation_func(Z, acti_func):\n",
    "    '''\n",
    "    for applying the activation function\n",
    "    \n",
    "    Arguments:\n",
    "        z: (numpy matrix) linear input\n",
    "        acti_func:(str) activation function name(choice)\n",
    "    Returns:\n",
    "        A: (float) non-linear activation output\n",
    "    '''\n",
    "    # apply the activation function based on the choice\n",
    "    if acti_func == 'sigmoid':\n",
    "        A = sigmoid(Z)\n",
    "    elif acti_func == 'relu':\n",
    "        A = relu(Z)\n",
    "    elif acti_func == 'tanh':\n",
    "        A = np.tanh(Z)\n",
    "    else:\n",
    "        A = relu(Z)\n",
    "        \n",
    "    return A"
   ]
  },
  {
   "cell_type": "markdown",
   "metadata": {},
   "source": [
    "### Cost Function"
   ]
  },
  {
   "cell_type": "code",
   "execution_count": 10,
   "metadata": {
    "collapsed": true
   },
   "outputs": [],
   "source": [
    "# for computing the logistic error\n",
    "def compute_cost(train_y, y_hat):\n",
    "    '''\n",
    "    for computing the mean loss (cost) for logistic regression\n",
    "    \n",
    "    Arguments:\n",
    "        train_y:(numpy matrix) contains the correct output labels for m training examples\n",
    "        y_hat:(numpy matrix) contains the sigmoid output values for m training examples\n",
    "    Returns:\n",
    "        cost: (float) cost value for m training examples\n",
    "    '''\n",
    "    cost = (1/train_y.shape[1]) * np.sum( -train_y*np.log(y_hat) - (1-train_y)*np.log(1 - y_hat) )\n",
    "    \n",
    "    # for avoiding 1 dimensional values \n",
    "    cost = np.squeeze(cost)\n",
    "    return cost"
   ]
  },
  {
   "cell_type": "code",
   "execution_count": 58,
   "metadata": {
    "collapsed": true
   },
   "outputs": [],
   "source": [
    "def gradient_descent(parameters, grads, learning_rate, num_layers):\n",
    "    '''\n",
    "    for doing gradient descent and updating the weights\n",
    "    \n",
    "    Arguments:\n",
    "        parameters: (dict) contains the learned weight and bias parameters\n",
    "        grads:(dict) contains the gradients for different layers\n",
    "        learning_rate: (float) learning rate\n",
    "        num_layers:(int) no. of layers in the Neural network\n",
    "    Returns:\n",
    "        parameters: (dict) contains the learned weight and bias parameters\n",
    "    '''\n",
    "    # update the parameters\n",
    "    for l in range(num_layers):\n",
    "        parameters['W'+str(l+1)] = parameters['W'+str(l+1)] - (learning_rate * grads['dW'+str(l+1)])\n",
    "        parameters['b'+str(l+1)] = parameters['b'+str(l+1)] - (learning_rate * grads['db'+str(l+1)])\n",
    "   \n",
    "    return parameters"
   ]
  },
  {
   "cell_type": "code",
   "execution_count": 59,
   "metadata": {
    "collapsed": true
   },
   "outputs": [],
   "source": [
    "def forward_propagation(features_X, parameters, num_layers, acti_fun):\n",
    "    '''\n",
    "    for doing forward propagation in neural network\n",
    "    \n",
    "    Arguments:\n",
    "        features_X: (numpy matrix) features for all training examples\n",
    "        parameters: (dict) contains the learned weight and bias parameters\n",
    "        num_layers:(int) no. of layers in the Neural network\n",
    "        acti_fun: (str) name of the activation function to use\n",
    "    Returns:\n",
    "        inter_val: (dict) contains the linear output Z and activation output A for each layer\n",
    "    '''\n",
    "    # for saving the computed intermediate values for each layer\n",
    "    inter_val = {}\n",
    "    \n",
    "    # make activation for input layer equal to the features\n",
    "    A = features_X\n",
    "    inter_val['A0'] = A\n",
    "    \n",
    "    # do forward propagation for all hidden layers except for the output layer\n",
    "    for l in range(num_layers-1):\n",
    "        # first find the linear output for each layer\n",
    "        inter_val['Z' + str(l+1)] = np.dot(parameters['W' + str(l+1)], A) + parameters['b' + str(l+1)]\n",
    "        inter_val['A' + str(l+1)] = activation_func(inter_val['Z' + str(l+1)], acti_fun)\n",
    "        A = inter_val['A'+str(l+1)]\n",
    "        \n",
    "    # forward propagation for output layer\n",
    "    inter_val['Z' + str(num_layers)] = np.dot(parameters['W' + str(num_layers)], A) + parameters['b' + str(num_layers)]\n",
    "    inter_val['A' + str(num_layers)] = activation_func(inter_val['Z' + str(num_layers)], 'sigmoid')\n",
    "    \n",
    "    return inter_val "
   ]
  },
  {
   "cell_type": "code",
   "execution_count": 60,
   "metadata": {
    "collapsed": true
   },
   "outputs": [],
   "source": [
    "def activation_derivative(dA, Z, acti_func):\n",
    "    '''\n",
    "    for finding the derivative of linear output Z with a particular activation function in its layer\n",
    "    \n",
    "    Arguments:\n",
    "        dA: (numpy matrix) partial derivative of loss function wrt activation outputs for the given layer  \n",
    "        Z: (numpy matrix) contains the linear otuput for the given layer\n",
    "        acti_fun: (str) name of the activation function to use\n",
    "    Returns:\n",
    "        dZ: (numpy matrix) partial derivative of loss function wrt linear output Z for the given layer\n",
    "    '''\n",
    "    # for sigmoid activation function\n",
    "    if acti_func == 'sigmoid':\n",
    "        s = sigmoid(Z)\n",
    "        dZ = dA*s*(1-s)\n",
    "        \n",
    "    # for relu activation function\n",
    "    elif acti_func == 'relu':\n",
    "        dZ = np.copy(dA)\n",
    "        dZ[Z<=0] = 0\n",
    "        \n",
    "    return dZ"
   ]
  },
  {
   "cell_type": "code",
   "execution_count": 61,
   "metadata": {
    "collapsed": true
   },
   "outputs": [],
   "source": [
    "def backward_propagate(train_X, train_y, parameters, inter_val, num_layers):\n",
    "    '''\n",
    "    for doing backward propagation in neural network\n",
    "    \n",
    "    Arguments:\n",
    "        train_X: (numpy matrix) features for all training examples\n",
    "        train_y: (numpy matrix) correct labels for all training examples\n",
    "        parameters: (dict) contains the learned weight and bias parameters\n",
    "        num_layers:(int) no. of layers in the Neural network\n",
    "        inter_val: (dict) contains the linear output Z and activation output A for each layer\n",
    "    Returns:\n",
    "        grads: (dict) contains the gradients for different layers\n",
    "    '''\n",
    "    #no. of training examples\n",
    "    m = train_X.shape[1]\n",
    "    \n",
    "    # for storing the gradients\n",
    "    grads = {}\n",
    "    \n",
    "    # gradients for output layer\n",
    "    AL = inter_val['A' + str(num_layers)]\n",
    "    dA = -train_y/AL + (1-train_y)/(1-AL)\n",
    "    dZ = activation_derivative(dA, inter_val['Z' + str(num_layers)], 'sigmoid')\n",
    "    grads['dW'+str(num_layers)] = (1/m)*np.dot(dZ, inter_val['A'+str(num_layers-1)].T)\n",
    "    grads['db'+str(num_layers)] = (1/m)*np.sum(dZ, axis = 1, keepdims = True)\n",
    "    dA = np.dot(parameters['W'+str(num_layers)].T, dZ)\n",
    "    \n",
    "    for l in reversed(range(1,num_layers)):\n",
    "        dZ = activation_derivative(dA, inter_val['Z' + str(l)], 'relu')\n",
    "        grads['dW'+str(l)] = (1/m)*np.dot(dZ, inter_val['A'+str(l-1)].T)\n",
    "        grads['db'+str(l)] = (1/m)*np.sum(dZ, axis = 1, keepdims = True)\n",
    "        dA = np.dot(parameters['W'+str(l)].T, dZ)\n",
    "        \n",
    "    return grads"
   ]
  },
  {
   "cell_type": "code",
   "execution_count": 69,
   "metadata": {
    "collapsed": true
   },
   "outputs": [],
   "source": [
    "def nn_model(train_X, train_y, num_layers, n_layer, num_iters, learning_rate):\n",
    "    '''\n",
    "    for training the model by doing steps systematically\n",
    "    \n",
    "    Arguments:\n",
    "        train_X:(numpy matrix) contains the input features for m training examples\n",
    "        train_y:(numpy matrix) contains the correct output labels for m training examples\n",
    "        num_iters: (int) no. of iterations to run \n",
    "        learning_rate: (float) learning rate\n",
    "     Returns:\n",
    "        parameters: (dict) contains the learned weight and bias parameters\n",
    "        costs: (list) contains cost per 100 iterations\n",
    "    '''\n",
    "    \n",
    "    parameters = random_init_parameters(num_layers, n_layer)\n",
    "    \n",
    "    # for storing the costs\n",
    "    costs = []\n",
    "    for i in range(num_iters):\n",
    "        # do forward propagation\n",
    "        inter_val = forward_propagation(train_X, parameters, num_layers, 'relu')\n",
    "        # compute the cost\n",
    "        cost = compute_cost(train_y, inter_val['A'+str(num_layers)])\n",
    "        # do backward propagation\n",
    "        grads = backward_propagate(train_X, train_y, parameters, inter_val, num_layers)\n",
    "        # update parameters\n",
    "        parameters = gradient_descent(parameters, grads, learning_rate, num_layers)\n",
    "        \n",
    "        if i%100 == 0:\n",
    "            print('Cost after iteration %i:%f'%(i,cost))\n",
    "        costs.append(cost)    \n",
    "    return parameters, costs"
   ]
  },
  {
   "cell_type": "code",
   "execution_count": 76,
   "metadata": {},
   "outputs": [
    {
     "name": "stdout",
     "output_type": "stream",
     "text": [
      "Cost after iteration 0:0.693127\n",
      "Cost after iteration 100:0.647598\n",
      "Cost after iteration 200:0.634713\n",
      "Cost after iteration 300:0.606501\n",
      "Cost after iteration 400:0.563252\n",
      "Cost after iteration 500:0.512054\n",
      "Cost after iteration 600:0.451598\n",
      "Cost after iteration 700:0.388893\n",
      "Cost after iteration 800:0.363807\n",
      "Cost after iteration 900:0.364767\n",
      "Cost after iteration 1000:0.334600\n",
      "Cost after iteration 1100:0.299498\n",
      "Cost after iteration 1200:0.220528\n",
      "Cost after iteration 1300:0.158900\n",
      "Cost after iteration 1400:0.131092\n",
      "Cost after iteration 1500:0.110172\n",
      "Cost after iteration 1600:0.094221\n",
      "Cost after iteration 1700:0.080147\n",
      "Cost after iteration 1800:0.068123\n",
      "Cost after iteration 1900:0.058971\n",
      "Cost after iteration 2000:0.051670\n",
      "Cost after iteration 2100:0.045665\n",
      "Cost after iteration 2200:0.040592\n",
      "Cost after iteration 2300:0.036457\n",
      "Cost after iteration 2400:0.032860\n"
     ]
    }
   ],
   "source": [
    "num_layers = 2\n",
    "n_layer = [12288, 7, 1]\n",
    "learning_rate = 0.0075\n",
    "num_iters = 2500\n",
    "parameters, costs = nn_model(train_X, train_y, num_layers, n_layer, num_iters, learning_rate)"
   ]
  },
  {
   "cell_type": "code",
   "execution_count": 71,
   "metadata": {
    "collapsed": true
   },
   "outputs": [],
   "source": [
    "def plot_learning_curve(costs, learning_rate):\n",
    "    '''\n",
    "    for plotting learning curve\n",
    "    \n",
    "    Arguments:\n",
    "        costs: (list) contains the costs per 100 iterations\n",
    "        learning_rate: (float) learning rate\n",
    "    Returns:\n",
    "        nil\n",
    "    '''\n",
    "    # Plot learning curve( cost vs iterations)\n",
    "    costs = np.squeeze(costs)\n",
    "    plt.plot(costs)\n",
    "    plt.ylabel('cost')\n",
    "    plt.xlabel('iterations (per hundreds)')\n",
    "    plt.title(\"Learning rate =\" + str(learning_rate))\n",
    "    plt.show()"
   ]
  },
  {
   "cell_type": "code",
   "execution_count": 77,
   "metadata": {},
   "outputs": [
    {
     "data": {
      "image/png": "[encoded data removed]",
      "text/plain": [
       "<matplotlib.figure.Figure at 0x24bf808aef0>"
      ]
     },
     "metadata": {},
     "output_type": "display_data"
    }
   ],
   "source": [
    "plot_learning_curve(costs, learning_rate)"
   ]
  },
  {
   "cell_type": "code",
   "execution_count": 73,
   "metadata": {
    "collapsed": true
   },
   "outputs": [],
   "source": [
    "def predict(features_X, parameters):\n",
    "    '''\n",
    "    for predicting the output labels for inputs\n",
    "    \n",
    "    Arguments:\n",
    "        feature_X: (numpy matrix) contains the input features for m training examples\n",
    "        parameters: (dict) contains the learned weight and bias parameters\n",
    "    Returns:\n",
    "        pred: (numpy array) output labels\n",
    "    '''\n",
    "    # find the output of logistic regression\n",
    "    inter_val = forward_propagation(features_X, parameters, num_layers, 'relu')\n",
    "    # take the sigmoid output\n",
    "    pred = inter_val['A'+str(num_layers)]\n",
    "    \n",
    "    # if the output is >0.5 then we consider that the picture is of a cat else it is a non-cat picture. \n",
    "    pred = (pred > 0.5)\n",
    "    \n",
    "    return pred    "
   ]
  },
  {
   "cell_type": "code",
   "execution_count": 78,
   "metadata": {},
   "outputs": [
    {
     "name": "stdout",
     "output_type": "stream",
     "text": [
      "train accuracy: 100.0 %\n",
      "test accuracy: 70.0 %\n"
     ]
    }
   ],
   "source": [
    "prediction_train = predict(train_X, parameters)\n",
    "prediction_test = predict(test_X, parameters)\n",
    "\n",
    "# Print train/test Errors\n",
    "print(\"train accuracy: {} %\".format(100 - np.mean(np.abs(prediction_train - train_y)) * 100))\n",
    "print(\"test accuracy: {} %\".format(100 - np.mean(np.abs(prediction_test - test_y)) * 100))"
   ]
  }
 ],
 "metadata": {
  "kernelspec": {
   "display_name": "Python 3",
   "language": "python",
   "name": "python3"
  },
  "language_info": {
   "codemirror_mode": {
    "name": "ipython",
    "version": 3
   },
   "file_extension": ".py",
   "mimetype": "text/x-python",
   "name": "python",
   "nbconvert_exporter": "python",
   "pygments_lexer": "ipython3",
   "version": "3.6.3"
  }
 },
 "nbformat": 4,
 "nbformat_minor": 2
}
